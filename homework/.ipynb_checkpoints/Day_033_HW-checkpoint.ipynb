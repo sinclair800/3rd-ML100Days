{
 "cells": [
  {
   "cell_type": "markdown",
   "metadata": {},
   "source": [
    "## 練習時間"
   ]
  },
  {
   "cell_type": "markdown",
   "metadata": {},
   "source": [
    "請觀看李宏毅教授以神奇寶貝進化 CP 值預測的範例，解說何謂機器學習與過擬合。並回答以下問題"
   ]
  },
  {
   "cell_type": "markdown",
   "metadata": {},
   "source": [
    "[youtube](https://www.youtube.com/watch?v=fegAeph9UaA)"
   ]
  },
  {
   "cell_type": "markdown",
   "metadata": {},
   "source": [
    "### 1. 模型的泛化能力 (generalization) 是指什麼？ \n",
    "### 2. 分類問題與回歸問題分別可用的目標函數有哪些？"
   ]
  },
  {
   "cell_type": "code",
   "execution_count": null,
   "metadata": {
    "collapsed": true
   },
   "outputs": [],
   "source": [
    "#1.是指對任何資料皆有好的預測表現，不只在training和testing data也可處理overfitting的問題\n",
    "#2.分類問題\n",
    "#交叉熵損失函數 softmax\n",
    "#合頁損失函數\n",
    "#指數損失函數\n",
    "#對比損失函數\n",
    "#資訊增益\n",
    "#Square loss或Hinge loss\n",
    "\n",
    "#回歸問題\n",
    "#MSE : 均方誤差（ L2 損失函數 ）\n",
    "#MAE : 平均絕對值誤差（ L1 損失函數 ）\n",
    "#Huber 損失函數（ 平滑的平均絕對誤差 ）\n",
    "#Log-Cosh 損失函數"
   ]
  }
 ],
 "metadata": {
  "kernelspec": {
   "display_name": "Python 3",
   "language": "python",
   "name": "python3"
  },
  "language_info": {
   "codemirror_mode": {
    "name": "ipython",
    "version": 3
   },
   "file_extension": ".py",
   "mimetype": "text/x-python",
   "name": "python",
   "nbconvert_exporter": "python",
   "pygments_lexer": "ipython3",
   "version": "3.6.2"
  }
 },
 "nbformat": 4,
 "nbformat_minor": 2
}
